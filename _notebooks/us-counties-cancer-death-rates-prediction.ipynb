{
 "cells": [
  {
   "cell_type": "code",
   "execution_count": 89,
   "metadata": {
    "colab": {
     "base_uri": "https://localhost:8080/"
    },
    "id": "nXgELfl3Qfzh",
    "outputId": "762d456f-8aef-434c-f90c-f3f03f8bba7f"
   },
   "outputs": [],
   "source": [
    "# Jovian Commit Essentials\n",
    "# Please retain and execute this cell without modifying the contents for `jovian.commit` to work\n",
    "!pip install jovian --upgrade -q\n",
    "import jovian\n",
    "jovian.utils.colab.set_colab_file_id('17iO0rBs-gOFSUPbr6nd3IyfcKR-j2yYa')"
   ]
  },
  {
   "cell_type": "markdown",
   "metadata": {
    "_cell_guid": "b1076dfc-b9ad-4769-8c92-a6c4dae69d19",
    "_uuid": "8f2839f25d086af736a60e9eeb907d3b93b6e0e5",
    "id": "awoDzKXtQfz2"
   },
   "source": [
    "# Cancer Mortality rate prediction for US counties using feedfoward neural networks\n",
    "\n",
    "Using data aggregated from the American Community Survey (https://census.gov), https://hclinicaltrials.gov, and https://cancer.gov. \n",
    "\n",
    "Link of aggregated data can be found here: https://data.world/nrippner/ols-regression-challenge"
   ]
  },
  {
   "cell_type": "markdown",
   "metadata": {
    "_cell_guid": "b1076dfc-b9ad-4769-8c92-a6c4dae69d19",
    "_uuid": "8f2839f25d086af736a60e9eeb907d3b93b6e0e5",
    "id": "awoDzKXtQfz2"
   },
   "source": [
    "# ABSTRACT\n",
    "\n",
    "This project aims to predict cancer mortality rates of US counties, using feedfoward neural networks. We'll first start by downloading and cleaning the data. Then we'll perform some exploratory data analyses to look for trends. We'll then build a model with the dataset, which takes a bunch of inputs and returns predictions for target death rate. Finally, we'll examine how how our model performed against The data\n",
    "\n",
    "## type of data: \n",
    "\n",
    "    tabular data\n",
    "    \n",
    " ## Model used:\n",
    " \n",
    "     Regression with feed-forward neural networks"
   ]
  },
  {
   "cell_type": "markdown",
   "metadata": {
    "_cell_guid": "b1076dfc-b9ad-4769-8c92-a6c4dae69d19",
    "_uuid": "8f2839f25d086af736a60e9eeb907d3b93b6e0e5",
    "id": "awoDzKXtQfz2"
   },
   "source": [
    "# Introduction\n",
    "\n",
    "Cancer is the second leading cause of death in the united states. Various types of cancer have been associated with modifiable risk factors like smoking, lack of physical activity, obesity, etc. Because modifiable risk factors have a very large association with the risk of developing cancers, half of cancer may be preventable (Colditz et al, 1996).\n",
    "\n",
    "\n",
    "However, individual risk factors might not be the only modifiable risk factors for cancer. Parameters like poor access to health care, low income etc, should also be considered as potential indirect risk factors. It's no wonder, areas with better cancer detection centers, tend to have a lower rate of cancer mortality, thanks to early detection.\n",
    "\n",
    "The dataset used in this project mainly contains population features of US counties, which will be fed into our model, in order to predict how these features might affect cancer mortality rates of US counties.\n",
    "\n",
    "## Note\n",
    "\n",
    "A copy of the dataset on my local drive will be used. However, I'll leave the download url to the dataset below. if you wish to explore on your own machine, simply uncomment the download_url function and replace the read_csv path with your path"
   ]
  },
  {
   "cell_type": "code",
   "execution_count": 90,
   "metadata": {
    "_cell_guid": "79c7e3d0-c299-4dcb-8224-4455121ee9b0",
    "_uuid": "d629ff2d2480ee46fbb7e2d37f6b5fab8052498a",
    "id": "ASmZMwP6Qfz3"
   },
   "outputs": [],
   "source": [
    "# Uncomment and run the commands below if imports fail\n",
    "# !conda install numpy pytorch torchvision cpuonly -c pytorch -y\n",
    "# !pip install matplotlib --upgrade --quiet\n",
    "!pip install jovian --upgrade --quiet"
   ]
  },
  {
   "cell_type": "code",
   "execution_count": 91,
   "metadata": {
    "id": "9ZUtDz6JQfz6"
   },
   "outputs": [],
   "source": [
    "# Imports\n",
    "import torch\n",
    "import jovian\n",
    "import torchvision\n",
    "import torch.nn as nn\n",
    "import pandas as pd\n",
    "import matplotlib.pyplot as plt\n",
    "import torch.nn.functional as F\n",
    "from torchvision.datasets.utils import download_url\n",
    "from torch.utils.data import DataLoader, TensorDataset, random_split"
   ]
  },
  {
   "cell_type": "code",
   "execution_count": 92,
   "metadata": {
    "id": "mHTey4XYQfz7"
   },
   "outputs": [],
   "source": [
    "# Hyperparameters\n",
    "batch_size=16\n",
    "learning_rate=5e-7\n",
    "\n",
    "\n",
    "# Other constants\n",
    "DATASET_URL = \"https://data.world/nrippner/ols-regression-challenge/file/cancer_reg.csv\"\n",
    "DATA_FILENAME = \"cancer.csv\"\n",
    "TARGET_COLUMN = 'target_deathrate'\n",
    "input_size=13\n",
    "output_size=1"
   ]
  },
  {
   "cell_type": "markdown",
   "metadata": {
    "id": "L2E2p92-Qfz7"
   },
   "source": [
    "## Dataset loading and cleaning\n",
    "\n",
    "Here, We'll load our datasets into to dataframe variable and clean the data by searching for null cells"
   ]
  },
  {
   "cell_type": "code",
   "execution_count": 93,
   "metadata": {
    "colab": {
     "base_uri": "https://localhost:8080/",
     "height": 835
    },
    "id": "9Br0zA9cQfz8",
    "outputId": "be24efc0-8f54-4384-fbbd-f46532d4f9c1",
    "scrolled": false
   },
   "outputs": [
    {
     "data": {
      "text/plain": [
       "0"
      ]
     },
     "execution_count": 93,
     "metadata": {},
     "output_type": "execute_result"
    }
   ],
   "source": [
    "# Download the data\n",
    "#download_url(DATASET_URL, '.')\n",
    "dataframe = pd.read_csv(r'C:\\Users\\User\\Desktop\\drdata\\cancer.csv', encoding = \"ISO-8859-1\")\n",
    "dataframe = dataframe[['avgAnnCount', 'avgDeathsPerYear', 'TARGET_deathRate', 'incidenceRate', 'povertyPercent', 'MedianAge', 'PctEmpPrivCoverage', 'PctPublicCoverage', 'PctWhite', 'PctBlack', 'PctAsian', 'PctOtherRace', 'PctMarriedHouseholds', 'BirthRate']]\n",
    "dataframe.isnull().sum().sum()\n"
   ]
  },
  {
   "cell_type": "markdown",
   "metadata": {
    "id": "L2E2p92-Qfz7"
   },
   "source": [
    "As shown above, We'll be working with 14 columns from our data, 13 of which will be input columns for our model.\n",
    "\n",
    "Also, our data has no null values, since it had been cleaned beforehand\n",
    "\n"
   ]
  },
  {
   "cell_type": "markdown",
   "metadata": {
    "id": "L2E2p92-Qfz7"
   },
   "source": [
    "## Exploratory Data Analyses\n",
    "\n",
    "Let's try finding correlations between the input columns and Target Death rate\n",
    "\n",
    "To avoid clogging up this notebook, I have plotted only a handful of graphs."
   ]
  },
  {
   "cell_type": "markdown",
   "metadata": {
    "id": "L2E2p92-Qfz7"
   },
   "source": [
    "## Correlation between povertyPercent and TARGET deathrate\n",
    "\n",
    "The plot below, shows a positive correlation between the percentage of poor people in individual US counties, and target death rate. \n"
   ]
  },
  {
   "cell_type": "code",
   "execution_count": 94,
   "metadata": {},
   "outputs": [
    {
     "data": {
      "image/png": "[encoded data removed]",
      "text/plain": [
       "<Figure size 432x288 with 1 Axes>"
      ]
     },
     "metadata": {
      "needs_background": "light"
     },
     "output_type": "display_data"
    }
   ],
   "source": [
    "#correlation between povertyPercent and TARGET_deathRate\n",
    "plt.scatter(dataframe['povertyPercent'], dataframe['TARGET_deathRate'])\n",
    "plt.xlabel('povertyPercent')\n",
    "plt.ylabel('TARGET_deathRate')\n",
    "plt.show()"
   ]
  },
  {
   "cell_type": "markdown",
   "metadata": {
    "id": "L2E2p92-Qfz7"
   },
   "source": [
    "## Correlation between percentage empirc coverage and TARGET deathrate\n",
    "\n",
    "The plot below, shows a negative correlation between the percentage of Empiric coverage for individual US counties, and target death rate. \n",
    "\n",
    "Generally, counties that have higher percentage of empiric coverage tend to experience lower death rates."
   ]
  },
  {
   "cell_type": "code",
   "execution_count": 95,
   "metadata": {
    "colab": {
     "base_uri": "https://localhost:8080/",
     "height": 177
    },
    "id": "U3VvcKykneNC",
    "outputId": "15eeed31-052b-49c9-d790-74fe0abd5d90"
   },
   "outputs": [
    {
     "data": {
      "image/png": "[encoded data removed]",
      "text/plain": [
       "<Figure size 432x288 with 1 Axes>"
      ]
     },
     "metadata": {
      "needs_background": "light"
     },
     "output_type": "display_data"
    }
   ],
   "source": [
    "#correlation between median age and TARGET_deathRate\n",
    "plt.scatter(dataframe['PctEmpPrivCoverage'], dataframe['TARGET_deathRate'])\n",
    "plt.xlabel('percentage empiric coverage')\n",
    "plt.ylabel('TARGET_deathRate')\n",
    "plt.xscale('log')\n",
    "\n",
    "plt.show()"
   ]
  },
  {
   "cell_type": "markdown",
   "metadata": {
    "id": "L2E2p92-Qfz7"
   },
   "source": [
    "## Correlation between percentage public coverage and TARGET deathrate\n",
    "\n",
    "The plot below, shows that there might be positive correlation between the percentage of public coverage for individual US counties, and target death rate. \n",
    "\n",
    "\n",
    "As shown, counties that have higher percentage of public coverage tend to experience higher death rates. What could be a reasonable explanation for this?"
   ]
  },
  {
   "cell_type": "code",
   "execution_count": 96,
   "metadata": {},
   "outputs": [
    {
     "data": {
      "image/png": "[encoded data removed]",
      "text/plain": [
       "<Figure size 432x288 with 1 Axes>"
      ]
     },
     "metadata": {
      "needs_background": "light"
     },
     "output_type": "display_data"
    }
   ],
   "source": [
    "#correlation between percentage public coverage and TARGET_deathRate\n",
    "plt.scatter(dataframe['PctPublicCoverage'], dataframe['TARGET_deathRate'])\n",
    "plt.xlabel('percentage public coverage')\n",
    "plt.ylabel('TARGET_deathRate')\n",
    "plt.xscale('log')\n",
    "plt.show()"
   ]
  },
  {
   "cell_type": "markdown",
   "metadata": {
    "id": "yxUwQ8uTQfz9"
   },
   "source": [
    "### Converting data to PyTorch dataset\n",
    "\n",
    "Lets' now convert our dataset to a pytorch data set, to enable us feed it to models\n"
   ]
  },
  {
   "cell_type": "code",
   "execution_count": 97,
   "metadata": {
    "id": "cFM-pu4tQfz9",
    "outputId": "1d2564f2-7f93-4969-f47b-e9f67d3ed04f"
   },
   "outputs": [
    {
     "data": {
      "text/plain": [
       "(2437.6, 609.4)"
      ]
     },
     "execution_count": 97,
     "metadata": {},
     "output_type": "execute_result"
    }
   ],
   "source": [
    "# Convert from Pandas dataframe to numpy arrays\n",
    "inputs = dataframe.drop('TARGET_deathRate', axis=1).values\n",
    "targets = dataframe[['TARGET_deathRate']].values\n",
    "inputs.shape, targets.shape\n",
    "rown = dataframe.shape[0]\n",
    "0.8 * rown, 0.2 * rown"
   ]
  },
  {
   "cell_type": "code",
   "execution_count": 98,
   "metadata": {},
   "outputs": [],
   "source": [
    "## convert to pytorch dataset\n",
    "dataset = TensorDataset(torch.tensor(inputs, dtype=torch.float32), torch.tensor(targets, dtype=torch.float32))\n",
    "\n",
    "train_ds, val_ds = random_split(dataset, [2437, 610])\n",
    "\n",
    "train_loader = DataLoader(train_ds, batch_size, shuffle=True)\n",
    "val_loader = DataLoader(val_ds, batch_size*2)"
   ]
  },
  {
   "cell_type": "code",
   "execution_count": 99,
   "metadata": {},
   "outputs": [],
   "source": [
    "input_size = 13\n",
    "output_size = 1"
   ]
  },
  {
   "cell_type": "code",
   "execution_count": 100,
   "metadata": {},
   "outputs": [
    {
     "data": {
      "application/javascript": [
       "window.require && require([\"base/js/namespace\"],function(Jupyter){Jupyter.notebook.save_checkpoint()})"
      ],
      "text/plain": [
       "<IPython.core.display.Javascript object>"
      ]
     },
     "metadata": {},
     "output_type": "display_data"
    },
    {
     "name": "stdout",
     "output_type": "stream",
     "text": [
      "[jovian] Attempting to save notebook..\n",
      "[jovian] Creating a new project \"sadiqbasit782/us-counties-cancer-death-rate-prediction\"\n",
      "[jovian] Uploading notebook..\n",
      "[jovian] Capturing environment..\n",
      "[jovian] Committed successfully! https://jovian.ai/abdulbee/us-counties-cancer-death-rate-prediction-8a48d\n"
     ]
    },
    {
     "data": {
      "text/plain": [
       "'https://jovian.ai/abdulbee/us-counties-cancer-death-rate-prediction-8a48d'"
      ]
     },
     "execution_count": 100,
     "metadata": {},
     "output_type": "execute_result"
    }
   ],
   "source": [
    "!pip install jovian --upgrade --quiet\n",
    "import jovian\n",
    "jovian.commit(project='us-counties-cancer-death-rate-prediction')"
   ]
  },
  {
   "cell_type": "markdown",
   "metadata": {
    "id": "seIjvNKYQfz-"
   },
   "source": [
    "## Model\n",
    "To train our our model, we'll be using a feed-foward neural network with 3 hidden layers. \n",
    "\n",
    "We'll be using the Relu function as the non-linear activation function for the hidden layers\n",
    "\n",
    "Let's now define our models."
   ]
  },
  {
   "cell_type": "code",
   "execution_count": 101,
   "metadata": {
    "id": "Di-13iOTQfz-"
   },
   "outputs": [],
   "source": [
    "class LifeExpectancyModel(nn.Module):\n",
    "    \"\"\"Feedfoward neural network with 3 hidden layers\"\"\"\n",
    "    def __init__(self, in_size, hidden_size, out_size):\n",
    "        super().__init__()\n",
    "        # hidden layer\n",
    "        self.linear1 = nn.Linear(in_size, hidden_size)\n",
    "        self.linear2 = nn.Linear(hidden_size, 64)\n",
    "        self.linear3 = nn.Linear(64, 128)\n",
    "        # output layer\n",
    "        self.linear4 = nn.Linear(128, out_size)\n",
    "        \n",
    "    def forward(self, xb):\n",
    "\n",
    "        # Get intermediate outputs using hidden layer\n",
    "        out = self.linear1(xb)\n",
    "        # Apply activation function\n",
    "        out = F.relu(out)\n",
    "        # Get predictions using output layer\n",
    "        out = self.linear2(out)\n",
    "        out = F.relu(out)\n",
    "        out = self.linear3(out)\n",
    "        out = F.relu(out)\n",
    "        out = self.linear4(out)\n",
    "        return out\n",
    "    \n",
    "    def training_step(self, batch):\n",
    "        inputs, targets = batch \n",
    "        out = self(inputs)                  # Generate predictions\n",
    "        loss = F.l1_loss(out, targets) # Calculate loss\n",
    "        return loss\n",
    "    \n",
    "    def validation_step(self, batch):\n",
    "        inputs, targets = batch \n",
    "        out = self(inputs)                    # Generate predictions\n",
    "        loss = F.l1_loss(out, targets)   # Calculate loss\n",
    "        acc = accuracy(out, targets)           # Calculate accuracy\n",
    "        return {'val_loss': loss, 'val_acc': acc}\n",
    "\n",
    "    def validation_epoch_end(self, outputs):\n",
    "        batch_losses = [x['val_loss'] for x in outputs]\n",
    "        epoch_loss = torch.stack(batch_losses).mean()  # Combine losses\n",
    "        return {'val_loss': epoch_loss.item()}\n",
    "    \n",
    "    def epoch_end(self, epoch, result, num_epochs):\n",
    "        # Print result every 20th epoch\n",
    "        if (epoch+1) % 20 == 0 or epoch == num_epochs-1:\n",
    "            print(\"Epoch [{}], val_loss: {:.4f}\".format(epoch+1, result['val_loss']))\n"
   ]
  },
  {
   "cell_type": "code",
   "execution_count": 102,
   "metadata": {},
   "outputs": [],
   "source": [
    "def accuracy(outputs, labels):\n",
    "    _, preds = torch.max(outputs, dim=1)\n",
    "    return torch.tensor(torch.sum(preds == labels).item() / len(preds))"
   ]
  },
  {
   "cell_type": "code",
   "execution_count": 103,
   "metadata": {},
   "outputs": [],
   "source": [
    "model = LifeExpectancyModel(13, 32, 1)"
   ]
  },
  {
   "cell_type": "markdown",
   "metadata": {
    "id": "AVPdfOajQfz_"
   },
   "source": [
    "## Training\n",
    "\n",
    "Let's now define our evaluate and fit functions\n",
    "\n",
    "We'll then train our model and improve it by varying our hyperparameters"
   ]
  },
  {
   "cell_type": "code",
   "execution_count": 104,
   "metadata": {
    "id": "0jS0JA_jQf0A"
   },
   "outputs": [],
   "source": [
    "def evaluate(model, val_loader):\n",
    "    outputs = [model.validation_step(batch) for batch in val_loader]\n",
    "    return model.validation_epoch_end(outputs)\n",
    "\n",
    "def fit(epochs, lr, model, train_loader, val_loader, opt_func=torch.optim.SGD):\n",
    "    history = []\n",
    "    optimizer = opt_func(model.parameters(), lr)\n",
    "    for epoch in range(epochs):\n",
    "        # Training Phase \n",
    "        for batch in train_loader:\n",
    "            loss = model.training_step(batch)\n",
    "            loss.backward()\n",
    "            optimizer.step()\n",
    "            optimizer.zero_grad()\n",
    "        # Validation phase\n",
    "        result = evaluate(model, val_loader)\n",
    "        model.epoch_end(epoch, result, epochs)\n",
    "        history.append(result)\n",
    "    return history\n"
   ]
  },
  {
   "cell_type": "code",
   "execution_count": 105,
   "metadata": {
    "id": "SPy7wS5TQf0A",
    "outputId": "cd3a453b-050d-406b-a3dd-83d714f8e8b1"
   },
   "outputs": [
    {
     "data": {
      "text/plain": [
       "{'val_loss': 169.96902465820312}"
      ]
     },
     "execution_count": 105,
     "metadata": {},
     "output_type": "execute_result"
    }
   ],
   "source": [
    "result = evaluate(model, val_loader)\n",
    "result"
   ]
  },
  {
   "cell_type": "code",
   "execution_count": 106,
   "metadata": {},
   "outputs": [],
   "source": [
    "epochs = 100\n",
    "lr = 1e-5"
   ]
  },
  {
   "cell_type": "code",
   "execution_count": 107,
   "metadata": {
    "id": "D1Q1E_r-Qf0B",
    "outputId": "172df7c1-afb2-4eca-acd4-d9c3d618297e",
    "scrolled": false
   },
   "outputs": [
    {
     "name": "stdout",
     "output_type": "stream",
     "text": [
      "Epoch [20], val_loss: 18.6959\n",
      "Epoch [40], val_loss: 18.4128\n",
      "Epoch [60], val_loss: 18.2030\n",
      "Epoch [80], val_loss: 18.4281\n",
      "Epoch [100], val_loss: 16.9023\n"
     ]
    }
   ],
   "source": [
    "history1 = fit(epochs, lr, model, train_loader, val_loader)"
   ]
  },
  {
   "cell_type": "code",
   "execution_count": 108,
   "metadata": {},
   "outputs": [
    {
     "name": "stdout",
     "output_type": "stream",
     "text": [
      "Epoch [20], val_loss: 16.4755\n",
      "Epoch [40], val_loss: 15.7217\n",
      "Epoch [60], val_loss: 15.9500\n",
      "Epoch [80], val_loss: 14.9139\n",
      "Epoch [100], val_loss: 15.0805\n",
      "Epoch [120], val_loss: 15.1283\n",
      "Epoch [140], val_loss: 19.4718\n",
      "Epoch [160], val_loss: 14.1801\n",
      "Epoch [180], val_loss: 14.1439\n",
      "Epoch [200], val_loss: 13.6768\n"
     ]
    }
   ],
   "source": [
    "epochs = 200\n",
    "lr = 1e-5\n",
    "history2 = fit(epochs, lr, model, train_loader, val_loader)"
   ]
  },
  {
   "cell_type": "code",
   "execution_count": 109,
   "metadata": {},
   "outputs": [
    {
     "name": "stdout",
     "output_type": "stream",
     "text": [
      "Epoch [20], val_loss: 13.6234\n",
      "Epoch [40], val_loss: 13.6126\n",
      "Epoch [60], val_loss: 13.6180\n",
      "Epoch [80], val_loss: 13.6067\n",
      "Epoch [100], val_loss: 13.6168\n",
      "Epoch [120], val_loss: 13.6010\n",
      "Epoch [140], val_loss: 13.6004\n",
      "Epoch [160], val_loss: 13.5972\n",
      "Epoch [180], val_loss: 13.5948\n",
      "Epoch [200], val_loss: 13.5891\n",
      "Epoch [220], val_loss: 13.5832\n",
      "Epoch [240], val_loss: 13.5870\n",
      "Epoch [260], val_loss: 13.6018\n",
      "Epoch [280], val_loss: 13.5707\n",
      "Epoch [300], val_loss: 13.5614\n"
     ]
    }
   ],
   "source": [
    "epochs = 300\n",
    "lr = 1e-7\n",
    "history3 = fit(epochs, lr, model, train_loader, val_loader)"
   ]
  },
  {
   "cell_type": "code",
   "execution_count": 110,
   "metadata": {},
   "outputs": [],
   "source": [
    "loss_final = 13.5614"
   ]
  },
  {
   "cell_type": "code",
   "execution_count": 111,
   "metadata": {
    "id": "l56z7azJQf0B",
    "outputId": "a193cee0-b00e-4974-ebbb-d31695137408"
   },
   "outputs": [
    {
     "data": {
      "image/png": "[encoded data removed]",
      "text/plain": [
       "<Figure size 432x288 with 1 Axes>"
      ]
     },
     "metadata": {
      "needs_background": "light"
     },
     "output_type": "display_data"
    }
   ],
   "source": [
    "losses = [r['val_loss'] for r in [result] + history1 + history2 + history3]\n",
    "plt.plot(losses, '-x')\n",
    "plt.xlabel('epoch')\n",
    "plt.ylabel('val_loss')\n",
    "plt.title('val_loss vs. epochs');"
   ]
  },
  {
   "cell_type": "markdown",
   "metadata": {
    "id": "BAHbuuz3Qf0C"
   },
   "source": [
    "## Prediction\n",
    "Let's now take a look at a couple of predictions to see how our well our model did"
   ]
  },
  {
   "cell_type": "code",
   "execution_count": 112,
   "metadata": {
    "id": "65cv637uQf0C"
   },
   "outputs": [],
   "source": [
    "def predict_single(x, model):\n",
    "    xb = x.unsqueeze(0)\n",
    "    return model(x).item()"
   ]
  },
  {
   "cell_type": "code",
   "execution_count": 113,
   "metadata": {
    "id": "yphBxdNdQf0D",
    "outputId": "248f8d44-3e9d-4a91-abc7-978562a5e4e1"
   },
   "outputs": [
    {
     "name": "stdout",
     "output_type": "stream",
     "text": [
      "Input:  tensor([1.4240e+03, 6.7200e+02, 4.4490e+02, 2.0800e+01, 4.9200e+01, 2.5000e+01,\n",
      "        5.2900e+01, 8.9046e+01, 1.1271e+00, 1.2279e+00, 2.9352e+00, 4.8439e+01,\n",
      "        4.5758e+00])\n",
      "Target:  196.60000610351562\n",
      "Prediction: 200.5573272705078\n"
     ]
    }
   ],
   "source": [
    "x, target = val_ds[10]\n",
    "pred = predict_single(x, model)\n",
    "print(\"Input: \", x)\n",
    "print(\"Target: \", target.item())\n",
    "print(\"Prediction:\", pred)"
   ]
  },
  {
   "cell_type": "code",
   "execution_count": 114,
   "metadata": {},
   "outputs": [
    {
     "name": "stdout",
     "output_type": "stream",
     "text": [
      "Input:  tensor([ 15.0000,   7.0000, 330.7000,  26.5000,  40.8000,  37.4000,  43.9000,\n",
      "         93.5389,   0.5140,   0.7832,   4.4787,  61.1316,  11.5566])\n",
      "Target:  156.8000030517578\n",
      "Prediction: 149.3185577392578\n",
      "\n",
      "\n",
      "\n",
      "Input:  tensor([1.2500e+02, 5.3000e+01, 4.9460e+02, 1.8100e+01, 3.8900e+01, 4.3800e+01,\n",
      "        3.9400e+01, 7.6655e+01, 2.1439e+01, 9.2904e-02, 3.0968e-02, 5.7336e+01,\n",
      "        4.1799e+00])\n",
      "Target:  212.39999389648438\n",
      "Prediction: 204.2766571044922\n",
      "\n",
      "\n",
      "\n",
      "Input:  tensor([145.0000,  64.0000, 375.6000,  16.1000,  29.1000,  39.4000,  28.8000,\n",
      "         68.9838,  25.3648,   0.7721,   1.9805,  54.3948,   4.7607])\n",
      "Target:  163.10000610351562\n",
      "Prediction: 168.67941284179688\n",
      "\n",
      "\n",
      "\n",
      "Input:  tensor([ 49.0000,  24.0000, 437.7000,  32.5000,  36.8000,  27.9000,  48.2000,\n",
      "         28.8711,  70.6581,   0.0000,   0.4708,  36.0548,   2.7902])\n",
      "Target:  219.6999969482422\n",
      "Prediction: 208.0584716796875\n",
      "\n",
      "\n",
      "\n",
      "Input:  tensor([9.1000e+01, 3.7000e+01, 4.1950e+02, 1.9000e+01, 4.0900e+01, 3.3500e+01,\n",
      "        3.8100e+01, 7.5538e+01, 2.0681e+01, 2.2381e-01, 1.6271e+00, 4.9250e+01,\n",
      "        4.6586e+00])\n",
      "Target:  169.0\n",
      "Prediction: 174.43484497070312\n",
      "\n",
      "\n",
      "\n",
      "Input:  tensor([1.8700e+02, 7.9000e+01, 4.1460e+02, 1.9900e+01, 3.9000e+01, 4.0300e+01,\n",
      "        4.0200e+01, 7.1565e+01, 6.6941e+00, 9.0447e-01, 2.5139e-01, 4.8968e+01,\n",
      "        5.8030e+00])\n",
      "Target:  170.6999969482422\n",
      "Prediction: 171.20864868164062\n",
      "\n",
      "\n",
      "\n",
      "Input:  tensor([1248.0000,  501.0000,  450.8000,   17.6000,   31.1000,   26.6000,\n",
      "          34.8000,   51.9099,   36.2178,    2.4057,    2.3228,   43.7196,\n",
      "           5.8835])\n",
      "Target:  186.10000610351562\n",
      "Prediction: 181.35789489746094\n",
      "\n",
      "\n",
      "\n",
      "Input:  tensor([108.0000,  57.0000, 278.5000,  10.8000,  35.9000,  61.0000,  23.5000,\n",
      "         96.4141,   0.4853,   1.1079,   0.4289,  55.3337,   4.1096])\n",
      "Target:  149.8000030517578\n",
      "Prediction: 151.5569305419922\n",
      "\n",
      "\n",
      "\n",
      "Input:  tensor([6.0000e+02, 2.4200e+02, 4.7820e+02, 1.5400e+01, 4.0600e+01, 4.6100e+01,\n",
      "        3.8800e+01, 9.2467e+01, 1.4116e+00, 8.0173e-01, 2.7935e-01, 4.6162e+01,\n",
      "        5.2354e+00])\n",
      "Target:  188.0\n",
      "Prediction: 187.83541870117188\n",
      "\n",
      "\n",
      "\n",
      "Input:  tensor([1.8300e+02, 6.8000e+01, 4.2280e+02, 1.5000e+01, 3.2900e+01, 4.5300e+01,\n",
      "        3.0900e+01, 8.6456e+01, 2.9291e-01, 7.0694e-01, 4.2813e+00, 6.2641e+01,\n",
      "        7.3044e+00])\n",
      "Target:  155.8000030517578\n",
      "Prediction: 155.8640594482422\n",
      "\n",
      "\n",
      "\n",
      "Input:  tensor([7.4500e+02, 2.8800e+02, 4.5980e+02, 1.5300e+01, 3.7400e+01, 4.6000e+01,\n",
      "        3.0600e+01, 7.8449e+01, 1.5026e+01, 6.8107e-01, 2.9905e+00, 5.5353e+01,\n",
      "        5.2547e+00])\n",
      "Target:  184.89999389648438\n",
      "Prediction: 179.05160522460938\n",
      "\n",
      "\n",
      "\n",
      "Input:  tensor([ 21.0000,   6.0000, 542.1000,   8.8000,  40.1000,  47.7000,  29.3000,\n",
      "         89.3315,   0.0000,   0.0000,   0.0000,  53.6278,  10.5346])\n",
      "Target:  159.6999969482422\n",
      "Prediction: 191.21893310546875\n",
      "\n",
      "\n",
      "\n",
      "Input:  tensor([1.0400e+02, 4.2000e+01, 4.6000e+02, 9.6000e+00, 4.4300e+01, 5.2800e+01,\n",
      "        3.3200e+01, 9.7423e+01, 4.7184e-01, 3.1663e-01, 7.6985e-01, 5.8589e+01,\n",
      "        4.0611e+00])\n",
      "Target:  179.89999389648438\n",
      "Prediction: 177.5709686279297\n",
      "\n",
      "\n",
      "\n",
      "Input:  tensor([5.3000e+01, 1.9000e+01, 4.7530e+02, 8.9000e+00, 4.1400e+01, 5.3000e+01,\n",
      "        2.8200e+01, 9.6372e+01, 5.8190e-01, 2.6000e-01, 2.7238e-01, 5.1403e+01,\n",
      "        4.1941e+00])\n",
      "Target:  158.0\n",
      "Prediction: 175.3429412841797\n",
      "\n",
      "\n",
      "\n",
      "Input:  tensor([ 29.0000,  11.0000, 407.4000,  10.9000,  36.4000,  55.1000,  26.0000,\n",
      "         94.1746,   0.4619,   0.0000,   0.4917,  60.1531,  10.6529])\n",
      "Target:  150.6999969482422\n",
      "Prediction: 157.48812866210938\n",
      "\n",
      "\n",
      "\n",
      "Input:  tensor([7.3000e+01, 3.5000e+01, 3.4560e+02, 3.8800e+01, 3.2300e+01, 1.8800e+01,\n",
      "        4.5300e+01, 9.4791e+01, 1.6499e+00, 6.3631e-02, 2.8543e+00, 5.2818e+01,\n",
      "        4.7991e+00])\n",
      "Target:  167.3000030517578\n",
      "Prediction: 182.82032775878906\n",
      "\n",
      "\n",
      "\n",
      "Input:  tensor([6.2000e+01, 2.4000e+01, 4.1930e+02, 1.5500e+01, 4.8700e+01, 3.8300e+01,\n",
      "        4.3500e+01, 8.5743e+01, 7.7353e+00, 1.0553e-01, 1.0553e-01, 5.1758e+01,\n",
      "        2.4291e+00])\n",
      "Target:  154.1999969482422\n",
      "Prediction: 168.7844696044922\n",
      "\n",
      "\n",
      "\n",
      "Input:  tensor([1.9627e+03, 3.7000e+01, 4.5355e+02, 1.7400e+01, 3.5900e+01, 4.6000e+01,\n",
      "        3.2000e+01, 9.0573e+01, 4.0943e+00, 3.3668e-01, 4.0281e-01, 4.7108e+01,\n",
      "        6.0129e+00])\n",
      "Target:  180.1999969482422\n",
      "Prediction: 165.49461364746094\n",
      "\n",
      "\n",
      "\n",
      "Input:  tensor([240.0000,  98.0000, 468.8000,  15.7000,  36.5000,  53.2000,  28.0000,\n",
      "         94.6592,   1.9183,   0.4791,   0.7428,  56.5737,   5.3931])\n",
      "Target:  191.5\n",
      "Prediction: 186.27952575683594\n",
      "\n",
      "\n",
      "\n",
      "Input:  tensor([1.9300e+02, 7.3000e+01, 4.6820e+02, 1.5900e+01, 4.3300e+01, 4.8000e+01,\n",
      "        3.8400e+01, 9.5980e+01, 1.4164e+00, 7.6458e-01, 3.9482e-01, 4.9625e+01,\n",
      "        3.4994e+00])\n",
      "Target:  172.8000030517578\n",
      "Prediction: 171.8993377685547\n",
      "\n",
      "\n",
      "\n",
      "Input:  tensor([7.1000e+01, 3.2000e+01, 4.4910e+02, 2.3400e+01, 4.5800e+01, 2.7600e+01,\n",
      "        5.2200e+01, 9.6729e+01, 7.1329e-01, 2.6096e-02, 6.1761e-01, 5.0342e+01,\n",
      "        3.9819e+00])\n",
      "Target:  196.5\n",
      "Prediction: 193.885498046875\n",
      "\n",
      "\n",
      "\n",
      "Input:  tensor([ 17.0000,   6.0000, 405.2000,  10.2000,  47.6000,  41.6000,  31.9000,\n",
      "         93.2507,   1.3242,   1.2388,   0.5553,  60.8247,   4.0476])\n",
      "Target:  140.0\n",
      "Prediction: 156.7034454345703\n",
      "\n",
      "\n",
      "\n",
      "Input:  tensor([1.0000e+02, 3.7000e+01, 4.7930e+02, 2.0700e+01, 4.3700e+01, 3.6900e+01,\n",
      "        4.5600e+01, 9.0843e+01, 6.0069e+00, 4.1955e-01, 1.8647e-01, 4.7169e+01,\n",
      "        4.9872e+00])\n",
      "Target:  169.8000030517578\n",
      "Prediction: 183.06089782714844\n",
      "\n",
      "\n",
      "\n",
      "Input:  tensor([5.7000e+01, 2.5000e+01, 4.6760e+02, 2.3300e+01, 3.9900e+01, 3.5000e+01,\n",
      "        3.8600e+01, 8.1291e+01, 1.7568e+01, 1.4014e-01, 0.0000e+00, 4.6066e+01,\n",
      "        2.0791e+00])\n",
      "Target:  200.10000610351562\n",
      "Prediction: 199.23025512695312\n",
      "\n",
      "\n",
      "\n",
      "Input:  tensor([3.2500e+02, 1.2100e+02, 4.3020e+02, 1.2000e+01, 4.0900e+01, 5.0600e+01,\n",
      "        3.0300e+01, 9.3640e+01, 5.2634e-01, 6.2732e-01, 2.5858e-01, 4.9232e+01,\n",
      "        5.2471e+00])\n",
      "Target:  159.6999969482422\n",
      "Prediction: 153.29115295410156\n",
      "\n",
      "\n",
      "\n",
      "Input:  tensor([3.4500e+02, 1.3000e+02, 5.2420e+02, 1.8800e+01, 4.4900e+01, 3.0700e+01,\n",
      "        4.3600e+01, 7.0066e+01, 2.6438e+01, 8.8308e-02, 1.6968e+00, 4.8040e+01,\n",
      "        4.1743e+00])\n",
      "Target:  194.0\n",
      "Prediction: 194.46775817871094\n",
      "\n",
      "\n",
      "\n",
      "Input:  tensor([1.2100e+02, 5.9000e+01, 4.2220e+02, 2.5500e+01, 4.0100e+01, 3.5800e+01,\n",
      "        4.2800e+01, 9.4818e+01, 1.9602e+00, 1.1578e-01, 1.9962e-02, 5.3941e+01,\n",
      "        4.6713e+00])\n",
      "Target:  207.0\n",
      "Prediction: 203.53216552734375\n",
      "\n",
      "\n",
      "\n",
      "Input:  tensor([7.4000e+01, 3.0000e+01, 5.2950e+02, 2.2100e+01, 4.3100e+01, 3.5300e+01,\n",
      "        4.3600e+01, 9.5049e+01, 2.6061e+00, 0.0000e+00, 2.6158e-01, 5.0222e+01,\n",
      "        3.8967e+00])\n",
      "Target:  216.3000030517578\n",
      "Prediction: 210.2063446044922\n",
      "\n",
      "\n",
      "\n",
      "Input:  tensor([646.0000, 281.0000, 428.8000,  10.1000,  36.0000,  53.5000,  25.1000,\n",
      "         71.4484,  23.8632,   1.3287,   1.0238,  53.6394,   4.6362])\n",
      "Target:  193.89999389648438\n",
      "Prediction: 179.13465881347656\n",
      "\n",
      "\n",
      "\n",
      "Input:  tensor([1.7100e+02, 6.2000e+01, 3.7760e+02, 1.1600e+01, 3.2000e+01, 5.8900e+01,\n",
      "        2.2500e+01, 9.3201e+01, 3.4124e-01, 9.2761e-01, 2.5730e+00, 6.8575e+01,\n",
      "        8.7795e+00])\n",
      "Target:  137.3000030517578\n",
      "Prediction: 139.8303680419922\n",
      "\n",
      "\n",
      "\n",
      "Input:  tensor([299.0000, 101.0000, 493.5000,  12.0000,  44.2000,  46.9000,  37.0000,\n",
      "         95.0415,   1.2511,   1.1315,   0.5727,  46.3856,   5.7515])\n",
      "Target:  154.1999969482422\n",
      "Prediction: 160.20230102539062\n",
      "\n",
      "\n",
      "\n",
      "Input:  tensor([ 74.0000,  34.0000, 460.3000,  34.1000,  40.5000,  30.0000,  40.8000,\n",
      "         36.8174,  59.4945,   1.5806,   0.8259,  37.7028,   6.3814])\n",
      "Target:  214.89999389648438\n",
      "Prediction: 211.8794403076172\n",
      "\n",
      "\n",
      "\n",
      "Input:  tensor([2.5500e+02, 1.1600e+02, 4.9440e+02, 2.3100e+01, 3.9700e+01, 3.6000e+01,\n",
      "        4.1300e+01, 6.4667e+01, 3.2789e+01, 5.5620e-01, 2.1903e-01, 4.7756e+01,\n",
      "        5.4538e+00])\n",
      "Target:  218.6999969482422\n",
      "Prediction: 221.14822387695312\n",
      "\n",
      "\n",
      "\n",
      "Input:  tensor([1624.0000,  584.0000,  505.5000,   15.1000,   40.6000,   45.3000,\n",
      "          33.4000,   67.1449,   15.5638,    8.2865,    5.1068,   44.8054,\n",
      "           4.6966])\n",
      "Target:  179.5\n",
      "Prediction: 181.28839111328125\n",
      "\n",
      "\n",
      "\n",
      "Input:  tensor([5.6000e+01, 1.9000e+01, 4.4640e+02, 2.3600e+01, 3.7500e+01, 2.9800e+01,\n",
      "        3.5500e+01, 8.8516e+01, 7.9197e-02, 1.6719e-01, 4.5935e+00, 5.2380e+01,\n",
      "        9.0794e+00])\n",
      "Target:  152.5\n",
      "Prediction: 173.95040893554688\n",
      "\n",
      "\n",
      "\n",
      "Input:  tensor([130.0000,  48.0000, 445.2000,  22.8000,  28.0000,  39.3000,  31.5000,\n",
      "         85.7567,   4.0526,   2.0200,   6.1600,  42.6646,   5.2441])\n",
      "Target:  164.10000610351562\n",
      "Prediction: 166.66514587402344\n",
      "\n",
      "\n",
      "\n",
      "Input:  tensor([1.3000e+01, 5.0000e+00, 2.8480e+02, 1.7000e+01, 5.2100e+01, 3.5000e+01,\n",
      "        3.7300e+01, 9.3416e+01, 2.2095e-01, 3.5351e-01, 0.0000e+00, 5.0050e+01,\n",
      "        1.5312e+01])\n",
      "Target:  97.30000305175781\n",
      "Prediction: 120.20320892333984\n",
      "\n",
      "\n",
      "\n",
      "Input:  tensor([6.0000e+01, 2.4000e+01, 4.6550e+02, 1.2100e+01, 4.2200e+01, 4.4000e+01,\n",
      "        3.6100e+01, 9.8252e+01, 3.2652e-01, 2.2119e-01, 1.0533e-01, 5.3530e+01,\n",
      "        6.7485e+00])\n",
      "Target:  165.8000030517578\n",
      "Prediction: 179.89382934570312\n",
      "\n",
      "\n",
      "\n",
      "Input:  tensor([1.5400e+02, 6.8000e+01, 4.8030e+02, 2.5300e+01, 3.9800e+01, 3.5500e+01,\n",
      "        4.5300e+01, 5.6161e+01, 4.1858e+01, 4.4185e-01, 2.0188e-01, 4.4237e+01,\n",
      "        4.6272e+00])\n",
      "Target:  213.6999969482422\n",
      "Prediction: 210.58905029296875\n",
      "\n",
      "\n",
      "\n",
      "Input:  tensor([228.0000, 109.0000, 428.1000,  26.4000,  41.0000,  36.1000,  40.7000,\n",
      "         63.8639,  33.2006,   0.5282,   1.0759,  45.6831,   4.3482])\n",
      "Target:  206.1999969482422\n",
      "Prediction: 212.37420654296875\n",
      "\n",
      "\n",
      "\n"
     ]
    },
    {
     "name": "stdout",
     "output_type": "stream",
     "text": [
      "Input:  tensor([406.0000, 158.0000, 482.4000,  14.4000,  37.9000,  48.0000,  31.3000,\n",
      "         75.5160,  21.2189,   0.5163,   0.6785,  54.3262,   5.8001])\n",
      "Target:  193.8000030517578\n",
      "Prediction: 182.8050537109375\n",
      "\n",
      "\n",
      "\n",
      "Input:  tensor([5.7000e+01, 2.5000e+01, 4.0130e+02, 1.0700e+01, 3.1300e+01, 4.8600e+01,\n",
      "        2.3400e+01, 9.2340e+01, 1.9613e+00, 3.7556e-01, 2.2891e+00, 6.2710e+01,\n",
      "        1.0782e+01])\n",
      "Target:  182.1999969482422\n",
      "Prediction: 164.51553344726562\n",
      "\n",
      "\n",
      "\n",
      "Input:  tensor([3.3000e+01, 1.7000e+01, 4.4810e+02, 1.0000e+01, 4.2800e+01, 4.5900e+01,\n",
      "        2.9000e+01, 9.6775e+01, 3.7413e-01, 0.0000e+00, 7.8389e-01, 5.6991e+01,\n",
      "        7.1914e+00])\n",
      "Target:  202.5\n",
      "Prediction: 180.6067657470703\n",
      "\n",
      "\n",
      "\n",
      "Input:  tensor([3.4000e+01, 1.2000e+01, 3.9230e+02, 1.1400e+01, 3.0000e+01, 5.3000e+01,\n",
      "        2.5500e+01, 9.4577e+01, 1.0577e-01, 2.7885e-01, 2.6731e+00, 6.7643e+01,\n",
      "        6.4404e+00])\n",
      "Target:  136.89999389648438\n",
      "Prediction: 154.45974731445312\n",
      "\n",
      "\n",
      "\n",
      "Input:  tensor([2.0800e+02, 8.2000e+01, 4.5170e+02, 1.0500e+01, 4.5200e+01, 4.3300e+01,\n",
      "        3.9100e+01, 9.5922e+01, 7.3236e-01, 7.1241e-01, 1.4248e-01, 4.9679e+01,\n",
      "        5.2639e+00])\n",
      "Target:  173.60000610351562\n",
      "Prediction: 167.4185791015625\n",
      "\n",
      "\n",
      "\n",
      "Input:  tensor([ 17.0000,   7.0000, 350.1000,  13.2000,  35.1000,  45.0000,  22.0000,\n",
      "         80.7363,   0.6556,   0.0000,  17.1457,  65.4054,   6.4103])\n",
      "Target:  138.1999969482422\n",
      "Prediction: 140.3334503173828\n",
      "\n",
      "\n",
      "\n",
      "Input:  tensor([1.3000e+01, 5.0000e+00, 3.8490e+02, 1.3900e+01, 5.0800e+01, 2.5000e+01,\n",
      "        3.7600e+01, 9.7008e+01, 8.3374e-01, 0.0000e+00, 2.9426e-01, 5.4866e+01,\n",
      "        9.1772e+00])\n",
      "Target:  135.1999969482422\n",
      "Prediction: 153.3442840576172\n",
      "\n",
      "\n",
      "\n",
      "Input:  tensor([528.0000, 212.0000, 461.8000,  21.5000,  33.3000,  38.2000,  31.7000,\n",
      "         78.4940,   9.4539,   4.7175,   2.8124,  42.2190,   7.0142])\n",
      "Target:  185.10000610351562\n",
      "Prediction: 184.06124877929688\n",
      "\n",
      "\n",
      "\n",
      "Input:  tensor([1.9627e+03, 1.6000e+01, 4.5355e+02, 1.1400e+01, 4.4700e+01, 4.4500e+01,\n",
      "        3.3400e+01, 9.6855e+01, 3.8175e-01, 1.8179e-01, 1.6361e-01, 5.5045e+01,\n",
      "        9.3422e+00])\n",
      "Target:  171.10000610351562\n",
      "Prediction: 159.07025146484375\n",
      "\n",
      "\n",
      "\n",
      "Input:  tensor([7.4000e+01, 3.1000e+01, 4.6870e+02, 2.0100e+01, 4.3100e+01, 3.7900e+01,\n",
      "        4.1800e+01, 9.7831e+01, 2.4280e-01, 6.7983e-01, 0.0000e+00, 5.5102e+01,\n",
      "        7.0208e+00])\n",
      "Target:  190.39999389648438\n",
      "Prediction: 191.59521484375\n",
      "\n",
      "\n",
      "\n",
      "Input:  tensor([ 26.0000,  12.0000, 320.2000,  11.7000,  43.2000,  49.7000,  25.7000,\n",
      "         96.3619,   1.4822,   0.3465,   0.3657,  58.6304,  12.0114])\n",
      "Target:  126.0\n",
      "Prediction: 134.9796600341797\n",
      "\n",
      "\n",
      "\n",
      "Input:  tensor([191.0000,  73.0000, 440.7000,  12.0000,  31.6000,  34.6000,  26.1000,\n",
      "         75.1540,  18.7948,   1.3257,   0.8067,  56.8999,   6.9537])\n",
      "Target:  173.3000030517578\n",
      "Prediction: 164.40492248535156\n",
      "\n",
      "\n",
      "\n",
      "Input:  tensor([1.4070e+03, 5.5600e+02, 4.8840e+02, 1.9100e+01, 3.7700e+01, 4.1200e+01,\n",
      "        3.6000e+01, 6.5187e+01, 2.9913e+01, 1.3137e+00, 7.5423e-01, 4.4559e+01,\n",
      "        4.9398e+00])\n",
      "Target:  191.1999969482422\n",
      "Prediction: 190.5457763671875\n",
      "\n",
      "\n",
      "\n",
      "Input:  tensor([131.0000,  56.0000, 475.3000,  19.6000,  36.6000,  46.1000,  32.6000,\n",
      "         83.4678,  14.5126,   0.5970,   0.8144,  56.2706,   5.9154])\n",
      "Target:  206.10000610351562\n",
      "Prediction: 198.87014770507812\n",
      "\n",
      "\n",
      "\n",
      "Input:  tensor([115.0000,  58.0000, 338.0000,  13.0000,  48.3000,  39.5000,  35.0000,\n",
      "         93.7533,   2.8694,   0.6995,   0.7708,  53.6538,   6.4761])\n",
      "Target:  159.1999969482422\n",
      "Prediction: 166.97640991210938\n",
      "\n",
      "\n",
      "\n",
      "Input:  tensor([4.4000e+01, 2.1000e+01, 4.8350e+02, 2.9500e+01, 4.4200e+01, 3.4100e+01,\n",
      "        4.9400e+01, 9.7410e+01, 4.5167e-01, 6.0223e-02, 6.0223e-02, 4.7567e+01,\n",
      "        8.0142e+00])\n",
      "Target:  230.89999389648438\n",
      "Prediction: 208.1646728515625\n",
      "\n",
      "\n",
      "\n",
      "Input:  tensor([8.3000e+01, 3.4000e+01, 3.7490e+02, 2.3700e+01, 3.9800e+01, 3.4900e+01,\n",
      "        3.8900e+01, 7.0609e+01, 2.4773e+01, 2.4124e-01, 2.3492e+00, 4.5847e+01,\n",
      "        3.9500e+00])\n",
      "Target:  151.89999389648438\n",
      "Prediction: 165.96353149414062\n",
      "\n",
      "\n",
      "\n",
      "Input:  tensor([248.0000, 110.0000, 463.0000,  24.5000,  39.4000,  33.8000,  39.9000,\n",
      "         59.8719,  36.4760,   0.8656,   1.0865,  43.8942,   6.2476])\n",
      "Target:  199.0\n",
      "Prediction: 204.84176635742188\n",
      "\n",
      "\n",
      "\n",
      "Input:  tensor([1.9627e+03, 9.0000e+00, 4.5355e+02, 1.4100e+01, 4.3700e+01, 3.8900e+01,\n",
      "        3.6800e+01, 9.5579e+01, 9.7222e-01, 4.3981e-01, 1.5741e+00, 5.9253e+01,\n",
      "        6.1659e+00])\n",
      "Target:  126.0\n",
      "Prediction: 159.85008239746094\n",
      "\n",
      "\n",
      "\n",
      "Input:  tensor([ 35.0000,  24.0000, 287.4000,  16.1000,  44.2000,  36.5000,  39.6000,\n",
      "         96.4116,   0.4196,   0.6073,   0.3423,  53.5811,   7.7915])\n",
      "Target:  187.39999389648438\n",
      "Prediction: 148.45010375976562\n",
      "\n",
      "\n",
      "\n",
      "Input:  tensor([369.0000, 133.0000, 461.9000,  12.1000,  46.8000,  41.9000,  43.9000,\n",
      "         95.9448,   0.6696,   0.9350,   0.4630,  49.8062,   4.8072])\n",
      "Target:  160.39999389648438\n",
      "Prediction: 159.41514587402344\n",
      "\n",
      "\n",
      "\n",
      "Input:  tensor([940.0000, 347.0000, 527.2000,  14.1000,  37.0000,  42.1000,  38.7000,\n",
      "         67.2088,  24.3120,   2.0913,   1.4920,  50.3145,   6.0688])\n",
      "Target:  190.6999969482422\n",
      "Prediction: 196.32601928710938\n",
      "\n",
      "\n",
      "\n",
      "Input:  tensor([ 33.0000,  12.0000, 488.6000,  38.5000,  38.2000,  30.9000,  42.4000,\n",
      "         33.9498,  61.2883,   0.5856,   3.2517,  35.6209,   7.2588])\n",
      "Target:  162.8000030517578\n",
      "Prediction: 212.66949462890625\n",
      "\n",
      "\n",
      "\n",
      "Input:  tensor([1.0700e+02, 4.8000e+01, 4.6130e+02, 2.6500e+01, 3.7600e+01, 3.3500e+01,\n",
      "        4.4700e+01, 6.2791e+01, 3.5858e+01, 1.7975e-01, 9.7581e-02, 4.5085e+01,\n",
      "        6.2430e+00])\n",
      "Target:  205.10000610351562\n",
      "Prediction: 205.45999145507812\n",
      "\n",
      "\n",
      "\n",
      "Input:  tensor([1.3000e+01, 6.0000e+00, 4.4160e+02, 1.4200e+01, 4.9600e+01, 2.8600e+01,\n",
      "        4.0500e+01, 9.7087e+01, 1.9417e-01, 5.1780e-01, 0.0000e+00, 5.0642e+01,\n",
      "        7.9861e+00])\n",
      "Target:  200.6999969482422\n",
      "Prediction: 172.5827178955078\n",
      "\n",
      "\n",
      "\n",
      "Input:  tensor([224.0000, 101.0000, 403.4000,  25.6000,  40.2000,  34.6000,  40.5000,\n",
      "         40.5738,  54.7928,   0.4804,   2.5719,  39.4718,   4.1814])\n",
      "Target:  184.6999969482422\n",
      "Prediction: 190.13389587402344\n",
      "\n",
      "\n",
      "\n",
      "Input:  tensor([211.0000,  97.0000, 412.7000,  18.0000,  45.3000,  35.6000,  41.0000,\n",
      "         60.4940,  36.9262,   0.5999,   1.0562,  46.8392,   5.5210])\n",
      "Target:  178.3000030517578\n",
      "Prediction: 189.80897521972656\n",
      "\n",
      "\n",
      "\n",
      "Input:  tensor([1.0000e+02, 4.7000e+01, 4.2420e+02, 2.3800e+01, 5.5600e+01, 2.2500e+01,\n",
      "        5.7600e+01, 9.1390e+01, 4.5631e-01, 2.4107e-01, 3.4094e+00, 4.4707e+01,\n",
      "        8.1986e+00])\n",
      "Target:  190.3000030517578\n",
      "Prediction: 188.1182403564453\n",
      "\n",
      "\n",
      "\n",
      "Input:  tensor([1.4010e+03, 5.7700e+02, 4.9280e+02, 2.4100e+01, 3.6600e+01, 3.7400e+01,\n",
      "        3.9000e+01, 4.7849e+01, 4.7939e+01, 1.2047e+00, 9.8884e-01, 3.7397e+01,\n",
      "        5.2724e+00])\n",
      "Target:  199.39999389648438\n",
      "Prediction: 203.90127563476562\n",
      "\n",
      "\n",
      "\n",
      "Input:  tensor([1.9627e+03, 6.3000e+01, 4.5355e+02, 1.3600e+01, 3.5400e+01, 5.1300e+01,\n",
      "        3.2200e+01, 9.4314e+01, 2.3253e+00, 1.1320e+00, 1.1728e-01, 4.8055e+01,\n",
      "        7.2070e+00])\n",
      "Target:  155.3000030517578\n",
      "Prediction: 165.6068115234375\n",
      "\n",
      "\n",
      "\n",
      "Input:  tensor([1.9627e+03, 5.8000e+01, 4.5355e+02, 1.2200e+01, 4.5400e+01, 4.2800e+01,\n",
      "        3.8800e+01, 9.7577e+01, 3.4889e-01, 5.4054e-01, 2.6536e-01, 5.0459e+01,\n",
      "        7.7001e+00])\n",
      "Target:  162.5\n",
      "Prediction: 165.9970245361328\n",
      "\n",
      "\n",
      "\n",
      "Input:  tensor([8.4000e+01, 2.9000e+01, 4.9290e+02, 6.7000e+00, 4.2200e+01, 5.4900e+01,\n",
      "        3.0300e+01, 9.8299e+01, 4.1106e-01, 3.7882e-01, 1.0478e-01, 5.8692e+01,\n",
      "        6.0359e+00])\n",
      "Target:  151.8000030517578\n",
      "Prediction: 173.17909240722656\n",
      "\n",
      "\n",
      "\n",
      "Input:  tensor([1.7000e+02, 8.8000e+01, 3.9320e+02, 1.7100e+01, 5.4600e+01, 2.6400e+01,\n",
      "        5.1100e+01, 9.1584e+01, 3.2680e-01, 5.5063e-01, 2.0324e+00, 4.6250e+01,\n",
      "        2.1981e+00])\n",
      "Target:  189.8000030517578\n",
      "Prediction: 192.15768432617188\n",
      "\n",
      "\n",
      "\n",
      "Input:  tensor([8.1000e+01, 3.9000e+01, 4.9250e+02, 3.4400e+01, 4.0800e+01, 3.3500e+01,\n",
      "        4.7600e+01, 9.8223e+01, 2.6106e-01, 7.2516e-02, 4.7861e-01, 5.3787e+01,\n",
      "        3.7779e+00])\n",
      "Target:  239.3000030517578\n",
      "Prediction: 226.58865356445312\n",
      "\n",
      "\n",
      "\n",
      "Input:  tensor([ 20.0000,  10.0000, 532.1000,  10.7000,  48.3000,  44.2000,  32.7000,\n",
      "         93.2911,   0.0000,   0.0000,   0.5907,  43.9623,   8.2090])\n",
      "Target:  227.60000610351562\n",
      "Prediction: 198.33468627929688\n",
      "\n",
      "\n",
      "\n",
      "Input:  tensor([4.4000e+01, 2.0000e+01, 3.9840e+02, 3.5600e+01, 3.9700e+01, 2.1900e+01,\n",
      "        5.8000e+01, 6.1624e+01, 3.4424e+01, 3.1233e-01, 2.9875e-01, 3.6762e+01,\n",
      "        4.3738e+00])\n",
      "Target:  181.10000610351562\n",
      "Prediction: 188.56317138671875\n",
      "\n",
      "\n",
      "\n",
      "Input:  tensor([9.8000e+01, 4.2000e+01, 4.5580e+02, 2.4000e+01, 3.7500e+01, 3.3600e+01,\n",
      "        4.0600e+01, 6.8095e+01, 2.8789e+01, 2.6681e-01, 1.6596e+00, 5.0424e+01,\n",
      "        4.3507e+00])\n",
      "Target:  190.60000610351562\n",
      "Prediction: 196.99073791503906\n",
      "\n",
      "\n",
      "\n",
      "Input:  tensor([ 13.0000,   4.0000, 336.1000,  14.1000,  47.0000,  38.1000,  33.6000,\n",
      "         96.8313,   0.0000,   0.0000,   1.6872,  65.1292,   6.9767])\n",
      "Target:  104.80000305175781\n",
      "Prediction: 138.09571838378906\n",
      "\n",
      "\n",
      "\n",
      "Input:  tensor([9.7500e+02, 3.7900e+02, 4.9900e+02, 2.0000e+01, 3.9100e+01, 4.4600e+01,\n",
      "        4.1400e+01, 8.0939e+01, 1.3819e+01, 5.1025e-01, 4.3794e-01, 4.7846e+01,\n",
      "        4.9741e+00])\n",
      "Target:  189.1999969482422\n",
      "Prediction: 192.00665283203125\n",
      "\n",
      "\n",
      "\n",
      "Input:  tensor([4.4990e+03, 1.7140e+03, 4.7230e+02, 9.8000e+00, 3.9100e+01, 5.2500e+01,\n",
      "        2.9700e+01, 6.3334e+01, 2.7116e+01, 5.6429e+00, 1.0812e+00, 4.5919e+01,\n",
      "        5.0737e+00])\n",
      "Target:  171.0\n",
      "Prediction: 171.7220458984375\n",
      "\n",
      "\n",
      "\n",
      "Input:  tensor([2.7000e+01, 1.1000e+01, 4.6280e+02, 9.3000e+00, 4.4900e+01, 3.6000e+01,\n",
      "        3.0000e+01, 9.8075e+01, 2.5661e-02, 0.0000e+00, 3.3359e-01, 5.9730e+01,\n",
      "        7.4896e+00])\n",
      "Target:  172.10000610351562\n",
      "Prediction: 177.0839080810547\n",
      "\n",
      "\n",
      "\n",
      "Input:  tensor([4.9200e+02, 1.8900e+02, 4.8460e+02, 1.1100e+01, 4.3300e+01, 5.0200e+01,\n",
      "        3.3300e+01, 9.5752e+01, 1.2716e+00, 4.7033e-01, 5.9500e-01, 5.9892e+01,\n",
      "        5.4077e+00])\n",
      "Target:  186.6999969482422\n",
      "Prediction: 180.15777587890625\n",
      "\n",
      "\n",
      "\n",
      "Input:  tensor([ 16.0000,   7.0000, 331.3000,  12.5000,  31.9000,  47.4000,  21.3000,\n",
      "         84.2727,   2.3229,   0.0000,  12.3953,  54.2331,   2.1104])\n",
      "Target:  153.1999969482422\n",
      "Prediction: 135.79934692382812\n",
      "\n",
      "\n",
      "\n",
      "Input:  tensor([708.0000, 314.0000, 426.5000,  11.2000,  39.5000,  38.6000,  30.5000,\n",
      "         85.8590,   5.7297,   1.9445,   1.4483,  58.1393,   5.4657])\n",
      "Target:  190.6999969482422\n",
      "Prediction: 177.9679412841797\n",
      "\n",
      "\n",
      "\n",
      "Input:  tensor([248.0000, 118.0000, 418.2000,  21.7000,  40.7000,  33.5000,  39.0000,\n",
      "         72.0647,   3.3496,   0.4648,   1.6303,  49.1734,   5.3445])\n",
      "Target:  195.8000030517578\n",
      "Prediction: 196.51150512695312\n",
      "\n",
      "\n",
      "\n",
      "Input:  tensor([3.3000e+01, 1.4000e+01, 3.9510e+02, 1.3300e+01, 4.3900e+01, 4.1000e+01,\n",
      "        3.0800e+01, 9.1560e+01, 3.4662e-02, 2.7730e-01, 0.0000e+00, 6.1728e+01,\n",
      "        4.0476e+00])\n",
      "Target:  148.6999969482422\n",
      "Prediction: 161.86143493652344\n",
      "\n",
      "\n",
      "\n",
      "Input:  tensor([8.7000e+01, 3.4000e+01, 4.5320e+02, 1.2000e+01, 4.4600e+01, 4.3700e+01,\n",
      "        3.8300e+01, 9.4674e+01, 3.7879e-01, 5.0247e-01, 2.8370e+00, 5.1028e+01,\n",
      "        6.4869e+00])\n",
      "Target:  159.3000030517578\n",
      "Prediction: 171.0296630859375\n",
      "\n",
      "\n",
      "\n"
     ]
    },
    {
     "name": "stdout",
     "output_type": "stream",
     "text": [
      "Input:  tensor([6.0000e+01, 2.5000e+01, 4.4230e+02, 1.1500e+01, 4.2900e+01, 4.3100e+01,\n",
      "        3.4900e+01, 9.7198e+01, 1.2598e+00, 4.0182e-01, 1.0860e-01, 5.2929e+01,\n",
      "        4.6901e+00])\n",
      "Target:  152.60000610351562\n",
      "Prediction: 175.3107147216797\n",
      "\n",
      "\n",
      "\n",
      "Input:  tensor([2.1800e+02, 7.2000e+01, 5.7280e+02, 1.4800e+01, 5.2600e+01, 3.0200e+01,\n",
      "        5.0400e+01, 8.6570e+01, 3.9803e-01, 5.1510e-01, 3.5589e-01, 5.0648e+01,\n",
      "        4.6933e+00])\n",
      "Target:  177.0\n",
      "Prediction: 186.85292053222656\n",
      "\n",
      "\n",
      "\n",
      "Input:  tensor([242.0000, 113.0000, 442.2000,  20.3000,  38.2000,  36.0000,  37.2000,\n",
      "         76.7758,  13.6352,   0.6796,   3.2857,  51.0156,   7.9367])\n",
      "Target:  201.89999389648438\n",
      "Prediction: 203.56265258789062\n",
      "\n",
      "\n",
      "\n",
      "Input:  tensor([7.4100e+02, 3.0800e+02, 4.7840e+02, 1.3800e+01, 4.4000e+01, 4.4800e+01,\n",
      "        3.9200e+01, 9.6006e+01, 7.9018e-01, 7.7119e-01, 4.0624e-01, 4.7202e+01,\n",
      "        4.8237e+00])\n",
      "Target:  193.1999969482422\n",
      "Prediction: 189.06369018554688\n",
      "\n",
      "\n",
      "\n",
      "Input:  tensor([2.8090e+03, 9.6500e+02, 4.7330e+02, 1.5300e+01, 3.4800e+01, 5.3600e+01,\n",
      "        2.9700e+01, 8.1242e+01, 9.7228e+00, 2.4991e+00, 2.6086e+00, 4.9440e+01,\n",
      "        5.9833e+00])\n",
      "Target:  160.1999969482422\n",
      "Prediction: 166.96475219726562\n",
      "\n",
      "\n",
      "\n",
      "Input:  tensor([1.4300e+02, 6.3000e+01, 4.5670e+02, 1.5100e+01, 4.0000e+01, 4.6700e+01,\n",
      "        3.1700e+01, 8.1859e+01, 1.5475e+01, 4.0799e-01, 4.4976e-01, 4.9256e+01,\n",
      "        2.5346e+00])\n",
      "Target:  209.3000030517578\n",
      "Prediction: 192.25213623046875\n",
      "\n",
      "\n",
      "\n",
      "Input:  tensor([2353.0000,  876.0000,  399.5000,   17.7000,   34.7000,   44.6000,\n",
      "          29.6000,   55.6264,   12.7480,   14.6300,   13.5603,   38.4752,\n",
      "           5.3442])\n",
      "Target:  152.60000610351562\n",
      "Prediction: 149.30758666992188\n",
      "\n",
      "\n",
      "\n",
      "Input:  tensor([507.0000, 194.0000, 518.7000,  13.2000,  37.3000,  50.1000,  28.3000,\n",
      "         93.6387,   3.2118,   0.8122,   0.6373,  46.7627,   4.9433])\n",
      "Target:  198.60000610351562\n",
      "Prediction: 188.87655639648438\n",
      "\n",
      "\n",
      "\n",
      "Input:  tensor([  8.0000,   3.0000, 201.3000,   9.9000,  36.8000,  58.3000,  11.2000,\n",
      "         31.5623,   4.7326,  37.1569,   5.2956,  42.8822,   4.3911])\n",
      "Target:  203.3000030517578\n",
      "Prediction: 61.93904495239258\n",
      "\n",
      "\n",
      "\n",
      "Input:  tensor([1000.0000,  352.0000,  442.1000,   12.9000,   42.8000,   31.0000,\n",
      "          38.4000,   73.6408,   18.6116,    1.1988,    4.0194,   54.0841,\n",
      "           6.3199])\n",
      "Target:  146.89999389648438\n",
      "Prediction: 157.73802185058594\n",
      "\n",
      "\n",
      "\n",
      "Input:  tensor([7.3000e+01, 3.1000e+01, 4.3160e+02, 1.2800e+01, 4.0600e+01, 4.3100e+01,\n",
      "        3.7400e+01, 9.7368e+01, 9.8608e-01, 3.3400e-01, 7.9523e-03, 4.7686e+01,\n",
      "        7.6811e+00])\n",
      "Target:  173.39999389648438\n",
      "Prediction: 171.658447265625\n",
      "\n",
      "\n",
      "\n",
      "Input:  tensor([9.3000e+01, 4.4000e+01, 4.3480e+02, 2.3300e+01, 4.2200e+01, 3.2600e+01,\n",
      "        4.3500e+01, 9.1993e+01, 6.1727e+00, 2.4856e-01, 3.8468e-01, 5.5287e+01,\n",
      "        6.4086e+00])\n",
      "Target:  201.39999389648438\n",
      "Prediction: 197.59031677246094\n",
      "\n",
      "\n",
      "\n",
      "Input:  tensor([540.0000, 183.0000, 436.7000,  14.1000,  33.3000,  54.4000,  20.2000,\n",
      "         74.9820,  11.6752,   7.2985,   2.5850,  47.7313,   4.2028])\n",
      "Target:  157.3000030517578\n",
      "Prediction: 146.23077392578125\n",
      "\n",
      "\n",
      "\n"
     ]
    }
   ],
   "source": [
    "for i in range(100, 200):\n",
    "    x, target = val_ds[i]\n",
    "    pred = predict_single(x, model)\n",
    "    print(\"Input: \", x)\n",
    "    print(\"Target: \", target.item())\n",
    "    print(\"Prediction:\", pred)\n",
    "    print('\\n\\n')"
   ]
  },
  {
   "cell_type": "code",
   "execution_count": 115,
   "metadata": {},
   "outputs": [],
   "source": [
    "torch.save(model.state_dict(), 'cancer-rate-feedforward.pth')"
   ]
  },
  {
   "cell_type": "markdown",
   "metadata": {
    "id": "lmTtA0OJQf0E"
   },
   "source": [
    "## Conclusion\n",
    "\n",
    "In this project, We have analyzed the US counties datasets and tried to find links between various parameters and death rate.\n",
    "\n",
    "We also built a model Using feed-forward neural networks, which predicts targets cancer death-rates, based on given parameters.\n",
    "\n",
    "However, there's still a wealth of information that can be dug out of this dataset.\n",
    "\n",
    "Also, the model didn't measure the accuracy of our predictions because measurement of accuracy in this case is subjective (since we're dealing with values here) and would have to be based on individually defined criteria.\n",
    "\n",
    "A good improvement to this model, will be to set a function that calculates the accuracy based on how far the predictions are from the actual target death rate. for example, you could objectively decide that any prediction that's less than 20 death rates from the actual death rate, would be classified as an accurate prediction. that way, you'll have an objective measure of exactly how accurate the model is."
   ]
  },
  {
   "cell_type": "markdown",
   "metadata": {
    "id": "lmTtA0OJQf0E"
   },
   "source": [
    "## Reference\n",
    "\n",
    "https://data.world/nrippner/ols-regression-challenge\n",
    "\n",
    "https://www.ncbi.nlm.nih.gov/pmc/articles/PMC2410150/"
   ]
  },
  {
   "cell_type": "markdown",
   "metadata": {
    "id": "lmTtA0OJQf0E"
   },
   "source": [
    "## Save and upload\n",
    "\n",
    "Let's save and upload our notebook, model and metrics"
   ]
  },
  {
   "cell_type": "markdown",
   "metadata": {
    "id": "yxUwQ8uTQfz9"
   },
   "source": [
    "### Let's log in our metrics\n"
   ]
  },
  {
   "cell_type": "code",
   "execution_count": 117,
   "metadata": {},
   "outputs": [
    {
     "name": "stdout",
     "output_type": "stream",
     "text": [
      "[jovian] Metrics logged.\r\n"
     ]
    }
   ],
   "source": [
    "jovian.log_metrics(final_loss = loss_final, hidden_layers = 3, lr1 = 1e-5, epoch1 = 100, lr2 = 1e-5, epoch2 = 200, lr3 = 1e-7, epoch3 =300)"
   ]
  },
  {
   "cell_type": "code",
   "execution_count": 118,
   "metadata": {},
   "outputs": [
    {
     "data": {
      "application/javascript": [
       "window.require && require([\"base/js/namespace\"],function(Jupyter){Jupyter.notebook.save_checkpoint()})"
      ],
      "text/plain": [
       "<IPython.core.display.Javascript object>"
      ]
     },
     "metadata": {},
     "output_type": "display_data"
    },
    {
     "name": "stdout",
     "output_type": "stream",
     "text": [
      "[jovian] Attempting to save notebook..\n",
      "[jovian] Creating a new project \"sadiqbasit782/us-counties-cancer-death-rate-prediction\"\n",
      "[jovian] Uploading notebook..\n",
      "[jovian] Uploading additional outputs...\n",
      "[jovian] Attaching records (metrics, hyperparameters, dataset etc.)\n",
      "[jovian] Committed successfully! https://jovian.ai/abdulbee/us-counties-cancer-death-rate-prediction-d60f0\n"
     ]
    },
    {
     "data": {
      "text/plain": [
       "'https://jovian.ai/abdulbee/us-counties-cancer-death-rate-prediction-d60f0'"
      ]
     },
     "execution_count": 118,
     "metadata": {},
     "output_type": "execute_result"
    }
   ],
   "source": [
    "jovian.commit(project='us-counties-cancer-death-rate-prediction', \n",
    "              environment=None, \n",
    "              outputs=['cancer-rate-feedforward.pth'])"
   ]
  },
  {
   "cell_type": "code",
   "execution_count": null,
   "metadata": {},
   "outputs": [],
   "source": []
  }
 ],
 "metadata": {
  "colab": {
   "collapsed_sections": [],
   "name": "notebook_source__.ipynb",
   "provenance": [],
   "toc_visible": true
  },
  "kernelspec": {
   "display_name": "Python 3",
   "language": "python",
   "name": "python3"
  },
  "language_info": {
   "codemirror_mode": {
    "name": "ipython",
    "version": 3
   },
   "file_extension": ".py",
   "mimetype": "text/x-python",
   "name": "python",
   "nbconvert_exporter": "python",
   "pygments_lexer": "ipython3",
   "version": "3.8.5"
  }
 },
 "nbformat": 4,
 "nbformat_minor": 1
}
